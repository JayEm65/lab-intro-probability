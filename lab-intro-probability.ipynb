{
 "cells": [
  {
   "cell_type": "markdown",
   "metadata": {},
   "source": [
    "# Lab | Intro to Probability"
   ]
  },
  {
   "cell_type": "markdown",
   "metadata": {},
   "source": [
    "**Objective**\n",
    "\n",
    "Welcome to this Intro to Probability lab, where we explore decision-making scenarios through the lens of probability and strategic analysis. In the business world, making informed decisions is crucial, especially when faced with uncertainties. This lab focuses on scenarios where probabilistic outcomes play a significant role in shaping strategies and outcomes. Students will engage in exercises that require assessing and choosing optimal paths based on data-driven insights. The goal is to enhance your skills by applying probability concepts to solve real-world problems."
   ]
  },
  {
   "cell_type": "markdown",
   "metadata": {},
   "source": [
    "**Challenge 1**"
   ]
  },
  {
   "cell_type": "markdown",
   "metadata": {},
   "source": [
    "#### Ironhack Airlines \n",
    "\n",
    "Often Airlines sell more tickets than they have seats available, this is called overbooking. Consider the following:\n",
    "- A plane has 450 seats. \n",
    "- Based on historical data we conclude that each individual passenger has a 3% chance of missing it's flight. \n",
    "\n",
    "If the Ironhack Airlines routinely sells 460 tickets, what is the chance that they have a seats for all passenger?"
   ]
  },
  {
   "cell_type": "code",
   "execution_count": 1,
   "metadata": {},
   "outputs": [
    {
     "name": "stdout",
     "output_type": "stream",
     "text": [
      "The probability that all passengers get a seat is 0.8845\n"
     ]
    }
   ],
   "source": [
    "from scipy.stats import binom\n",
    "\n",
    "# Parameters\n",
    "n = 460  # Total tickets sold\n",
    "p = 0.97  # Probability of showing up\n",
    "seats = 450  # Available seats\n",
    "\n",
    "# Calculate probability that 450 or fewer passengers show up\n",
    "prob = binom.cdf(seats, n, p)\n",
    "print(f\"The probability that all passengers get a seat is {prob:.4f}\")\n"
   ]
  },
  {
   "cell_type": "markdown",
   "metadata": {},
   "source": [
    "**Challenge 2**"
   ]
  },
  {
   "cell_type": "markdown",
   "metadata": {},
   "source": [
    "#### Ironhack Call Center "
   ]
  },
  {
   "cell_type": "markdown",
   "metadata": {},
   "source": [
    "Suppose a customer service representative at a call center is handling customer complaints. Consider the following:\n",
    "- The probability of successfully resolving a customer complaint on the first attempt is 0.3. \n",
    "\n",
    "\n",
    "What is the probability that the representative needs to make at least three attempts before successfully resolving a customer complaint?"
   ]
  },
  {
   "cell_type": "code",
   "execution_count": 2,
   "metadata": {},
   "outputs": [
    {
     "name": "stdout",
     "output_type": "stream",
     "text": [
      "The probability of requiring at least 3 attempts is 0.4900\n"
     ]
    }
   ],
   "source": [
    "from scipy.stats import geom\n",
    "\n",
    "# Parameters\n",
    "p = 0.3  # Probability of resolving on each attempt\n",
    "\n",
    "# Probability of resolving within 2 attempts (P(X < 3))\n",
    "prob = geom.cdf(2, p)\n",
    "# Probability of requiring at least 3 attempts\n",
    "prob_at_least_3 = 1 - prob\n",
    "\n",
    "print(f\"The probability of requiring at least 3 attempts is {prob_at_least_3:.4f}\")\n"
   ]
  },
  {
   "cell_type": "markdown",
   "metadata": {},
   "source": [
    "**Challenge 3**"
   ]
  },
  {
   "cell_type": "markdown",
   "metadata": {},
   "source": [
    "#### Ironhack Website"
   ]
  },
  {
   "cell_type": "markdown",
   "metadata": {},
   "source": [
    "Consider a scenario related to Ironhack website traffic. Where:\n",
    "- our website takes on average 500 visits per hour.\n",
    "- the website's server is designed to handle up to 550 vists per hour.\n",
    "\n",
    "\n",
    "What is the probability of the website server being overwhelmed?"
   ]
  },
  {
   "cell_type": "code",
   "execution_count": 3,
   "metadata": {},
   "outputs": [
    {
     "name": "stdout",
     "output_type": "stream",
     "text": [
      "The probability of the server being overwhelmed in an hour is 0.0129\n"
     ]
    }
   ],
   "source": [
    "from scipy.stats import poisson\n",
    "\n",
    "# Parameters\n",
    "lambda_visits = 500  # Average visits per hour\n",
    "server_limit = 550  # Server limit\n",
    "\n",
    "# Probability of server being overwhelmed (P(X > 550))\n",
    "prob_overwhelmed = 1 - poisson.cdf(server_limit, lambda_visits)\n",
    "print(f\"The probability of the server being overwhelmed in an hour is {prob_overwhelmed:.4f}\")\n"
   ]
  },
  {
   "cell_type": "markdown",
   "metadata": {},
   "source": [
    "What is the probability of being overwhelmed at some point during a day? (consider 24hours)"
   ]
  },
  {
   "cell_type": "code",
   "execution_count": 4,
   "metadata": {},
   "outputs": [
    {
     "name": "stdout",
     "output_type": "stream",
     "text": [
      "The probability of the server being overwhelmed at some point during the day is 0.2677\n"
     ]
    }
   ],
   "source": [
    "# Probability of not being overwhelmed in one hour\n",
    "prob_not_overwhelmed = 1 - prob_overwhelmed\n",
    "\n",
    "# Probability of not being overwhelmed during the entire day\n",
    "prob_not_overwhelmed_day = prob_not_overwhelmed ** 24\n",
    "\n",
    "# Probability of being overwhelmed at least once during the day\n",
    "prob_overwhelmed_day = 1 - prob_not_overwhelmed_day\n",
    "print(f\"The probability of the server being overwhelmed at some point during the day is {prob_overwhelmed_day:.4f}\")\n"
   ]
  },
  {
   "cell_type": "markdown",
   "metadata": {},
   "source": [
    "**Challenge 4**"
   ]
  },
  {
   "cell_type": "markdown",
   "metadata": {},
   "source": [
    "#### Ironhack Helpdesk"
   ]
  },
  {
   "cell_type": "markdown",
   "metadata": {},
   "source": [
    "Consider a scenario related to the time between arrivals of customers at a service desk.\n",
    "\n",
    "On average, a customers arrives every 10minutes.\n",
    "\n",
    "What is the probability that the next customer will arrive within the next 5 minutes?"
   ]
  },
  {
   "cell_type": "code",
   "execution_count": 5,
   "metadata": {},
   "outputs": [
    {
     "name": "stdout",
     "output_type": "stream",
     "text": [
      "The probability that the next customer arrives within 5 minutes is 0.3935\n"
     ]
    }
   ],
   "source": [
    "from scipy.stats import expon\n",
    "\n",
    "# Parameters\n",
    "lambda_arrival = 1 / 10  # Average time between arrivals\n",
    "\n",
    "# Probability that the next customer arrives within 5 minutes\n",
    "prob_arrival_within_5 = expon.cdf(5, scale=1/lambda_arrival)\n",
    "print(f\"The probability that the next customer arrives within 5 minutes is {prob_arrival_within_5:.4f}\")\n"
   ]
  },
  {
   "cell_type": "markdown",
   "metadata": {},
   "source": [
    "If there is no customer for 15minutes, employees can that a 5minutes break.\n",
    "\n",
    "What is the probability an employee taking a break?"
   ]
  },
  {
   "cell_type": "code",
   "execution_count": 6,
   "metadata": {},
   "outputs": [
    {
     "name": "stdout",
     "output_type": "stream",
     "text": [
      "The probability of no customer arriving in 15 minutes (break time) is 0.2231\n"
     ]
    }
   ],
   "source": [
    "# Probability of no customer arriving within 15 minutes\n",
    "prob_no_customer_15 = expon.sf(15, scale=1/lambda_arrival)\n",
    "print(f\"The probability of no customer arriving in 15 minutes (break time) is {prob_no_customer_15:.4f}\")\n"
   ]
  },
  {
   "cell_type": "markdown",
   "metadata": {},
   "source": [
    "**Challenge 5**"
   ]
  },
  {
   "cell_type": "markdown",
   "metadata": {},
   "source": [
    "The weights of a certain species of birds follow a normal distribution with a mean weight of 150 grams and a standard deviation of 10 grams. \n",
    "\n",
    "- If we randomly select a bird, what is the probability that its weight is between 140 and 160 grams?"
   ]
  },
  {
   "cell_type": "code",
   "execution_count": 7,
   "metadata": {},
   "outputs": [
    {
     "name": "stdout",
     "output_type": "stream",
     "text": [
      "The probability that a bird weighs between 140 and 160 grams is 0.6827\n"
     ]
    }
   ],
   "source": [
    "from scipy.stats import norm\n",
    "\n",
    "# Parameters\n",
    "mean_weight = 150\n",
    "std_weight = 10\n",
    "\n",
    "# Probability of weight between 140 and 160 grams\n",
    "prob_weight_140_160 = norm.cdf(160, mean_weight, std_weight) - norm.cdf(140, mean_weight, std_weight)\n",
    "print(f\"The probability that a bird weighs between 140 and 160 grams is {prob_weight_140_160:.4f}\")\n"
   ]
  },
  {
   "cell_type": "markdown",
   "metadata": {},
   "source": [
    "**Challenge 6**"
   ]
  },
  {
   "cell_type": "markdown",
   "metadata": {},
   "source": [
    "If the lifetime (in hours) of a certain electronic component follows an exponential distribution with a mean lifetime of 50 hours, what is the probability that the component fails within the first 30 hours?"
   ]
  },
  {
   "cell_type": "code",
   "execution_count": 8,
   "metadata": {},
   "outputs": [
    {
     "name": "stdout",
     "output_type": "stream",
     "text": [
      "The probability that the component fails within 30 hours is 0.4512\n"
     ]
    }
   ],
   "source": [
    "# Parameters\n",
    "lambda_lifetime = 1 / 50  # Mean lifetime is 50 hours\n",
    "\n",
    "# Probability of failing within 30 hours\n",
    "prob_fail_30 = expon.cdf(30, scale=1/lambda_lifetime)\n",
    "print(f\"The probability that the component fails within 30 hours is {prob_fail_30:.4f}\")\n"
   ]
  }
 ],
 "metadata": {
  "kernelspec": {
   "display_name": "Python 3",
   "language": "python",
   "name": "python3"
  },
  "language_info": {
   "codemirror_mode": {
    "name": "ipython",
    "version": 3
   },
   "file_extension": ".py",
   "mimetype": "text/x-python",
   "name": "python",
   "nbconvert_exporter": "python",
   "pygments_lexer": "ipython3",
   "version": "3.12.6"
  }
 },
 "nbformat": 4,
 "nbformat_minor": 2
}
